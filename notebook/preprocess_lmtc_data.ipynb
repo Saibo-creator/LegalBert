{
 "cells": [
  {
   "cell_type": "code",
   "execution_count": 1,
   "metadata": {
    "ExecuteTime": {
     "end_time": "2020-11-02T17:30:25.158776Z",
     "start_time": "2020-11-02T17:30:23.437182Z"
    }
   },
   "outputs": [],
   "source": [
    "import json\n",
    "import glob\n",
    "import pandas as pd\n",
    "from sklearn.preprocessing import MultiLabelBinarizer\n"
   ]
  },
  {
   "cell_type": "code",
   "execution_count": 3,
   "metadata": {
    "ExecuteTime": {
     "end_time": "2020-10-27T22:40:05.965043Z",
     "start_time": "2020-10-27T22:40:05.960712Z"
    }
   },
   "outputs": [],
   "source": [
    "# import glob\n",
    "\n",
    "# read_files = glob.glob(\"../dataset/downstream_task/classification/text/test/*.json\")\n",
    "# with open(\"../dataset/downstream_task/classification/text/dev.json\", \"w\") as outfile:\n",
    "#     outfile.write('[{}]'.format(\n",
    "#         ','.join([open(f, \"r\").read() for f in read_files])))"
   ]
  },
  {
   "cell_type": "code",
   "execution_count": 4,
   "metadata": {
    "ExecuteTime": {
     "end_time": "2020-11-02T17:31:08.994795Z",
     "start_time": "2020-11-02T17:31:08.655280Z"
    }
   },
   "outputs": [],
   "source": [
    "test=pd.read_json(\"../../dataset/downstream_task/multiLabelClassification/text/test.json\", orient='records')"
   ]
  },
  {
   "cell_type": "code",
   "execution_count": 5,
   "metadata": {
    "ExecuteTime": {
     "end_time": "2020-11-02T17:31:10.057114Z",
     "start_time": "2020-11-02T17:31:10.052642Z"
    }
   },
   "outputs": [
    {
     "name": "stdout",
     "output_type": "stream",
     "text": [
      "len(test)=6000\n"
     ]
    }
   ],
   "source": [
    "print(\"len(test)=%d\"%(len(test)))"
   ]
  },
  {
   "cell_type": "code",
   "execution_count": 30,
   "metadata": {
    "ExecuteTime": {
     "end_time": "2020-10-29T15:53:00.167166Z",
     "start_time": "2020-10-29T15:52:59.891366Z"
    }
   },
   "outputs": [],
   "source": [
    "dev=pd.read_json(\"../../dataset/downstream_task/classification/text/dev.json\")"
   ]
  },
  {
   "cell_type": "code",
   "execution_count": 31,
   "metadata": {
    "ExecuteTime": {
     "end_time": "2020-10-29T15:53:00.278147Z",
     "start_time": "2020-10-29T15:53:00.274341Z"
    }
   },
   "outputs": [
    {
     "name": "stdout",
     "output_type": "stream",
     "text": [
      "len(dev)=6000\n"
     ]
    }
   ],
   "source": [
    "print(\"len(dev)=%d\"%(len(dev)))"
   ]
  },
  {
   "cell_type": "code",
   "execution_count": 32,
   "metadata": {
    "ExecuteTime": {
     "end_time": "2020-10-29T15:53:04.422745Z",
     "start_time": "2020-10-29T15:53:00.708767Z"
    }
   },
   "outputs": [],
   "source": [
    "train=pd.read_json(\"../../dataset/downstream_task/classification/text/train.json\")"
   ]
  },
  {
   "cell_type": "code",
   "execution_count": 33,
   "metadata": {
    "ExecuteTime": {
     "end_time": "2020-10-29T15:53:04.428297Z",
     "start_time": "2020-10-29T15:53:04.424174Z"
    }
   },
   "outputs": [
    {
     "name": "stdout",
     "output_type": "stream",
     "text": [
      "len(train)=45000\n"
     ]
    }
   ],
   "source": [
    "print(\"len(train)=%d\"%(len(train)))"
   ]
  },
  {
   "cell_type": "code",
   "execution_count": 61,
   "metadata": {
    "ExecuteTime": {
     "end_time": "2020-10-29T16:05:06.308787Z",
     "start_time": "2020-10-29T16:05:04.784262Z"
    }
   },
   "outputs": [],
   "source": [
    "total=pd.concat([train,dev,test])"
   ]
  },
  {
   "cell_type": "markdown",
   "metadata": {},
   "source": [
    "## MultiLabel"
   ]
  },
  {
   "cell_type": "code",
   "execution_count": 62,
   "metadata": {
    "ExecuteTime": {
     "end_time": "2020-10-29T16:05:06.701623Z",
     "start_time": "2020-10-29T16:05:06.313348Z"
    }
   },
   "outputs": [
    {
     "data": {
      "text/html": [
       "<div>\n",
       "<style scoped>\n",
       "    .dataframe tbody tr th:only-of-type {\n",
       "        vertical-align: middle;\n",
       "    }\n",
       "\n",
       "    .dataframe tbody tr th {\n",
       "        vertical-align: top;\n",
       "    }\n",
       "\n",
       "    .dataframe thead th {\n",
       "        text-align: right;\n",
       "    }\n",
       "</style>\n",
       "<table border=\"1\" class=\"dataframe\">\n",
       "  <thead>\n",
       "    <tr style=\"text-align: right;\">\n",
       "      <th></th>\n",
       "      <th>celex_id</th>\n",
       "      <th>concepts</th>\n",
       "      <th>header+recital</th>\n",
       "    </tr>\n",
       "  </thead>\n",
       "  <tbody>\n",
       "    <tr>\n",
       "      <th>0</th>\n",
       "      <td>32014R0727</td>\n",
       "      <td>[1402, 2771, 3191, 5055, 519, 5969, 5971]</td>\n",
       "      <td>1.7.2014 EN Official Journal of the European U...</td>\n",
       "    </tr>\n",
       "    <tr>\n",
       "      <th>1</th>\n",
       "      <td>31975R2481</td>\n",
       "      <td>[2319, 2713, 2938, 693]</td>\n",
       "      <td>REGULATION (EEC) No 2481/75 OF THE COUNCIL  of...</td>\n",
       "    </tr>\n",
       "    <tr>\n",
       "      <th>2</th>\n",
       "      <td>32010D0008</td>\n",
       "      <td>[3560, 365, 4256, 4261, 4353, 4585]</td>\n",
       "      <td>7.1.2010 EN Official Journal of the European U...</td>\n",
       "    </tr>\n",
       "    <tr>\n",
       "      <th>3</th>\n",
       "      <td>31982D0211</td>\n",
       "      <td>[1091, 3842, 3874, 4110, 4381, 5287]</td>\n",
       "      <td>COMMISSION  DECISION\\nof 17 March 1982\\nestabl...</td>\n",
       "    </tr>\n",
       "    <tr>\n",
       "      <th>4</th>\n",
       "      <td>31996D0084</td>\n",
       "      <td>[1026, 1048, 2300, 3653, 4271, 4390]</td>\n",
       "      <td>COMMISSION DECISION of 8 January 1996 adjustin...</td>\n",
       "    </tr>\n",
       "  </tbody>\n",
       "</table>\n",
       "</div>"
      ],
      "text/plain": [
       "     celex_id                                   concepts  \\\n",
       "0  32014R0727  [1402, 2771, 3191, 5055, 519, 5969, 5971]   \n",
       "1  31975R2481                    [2319, 2713, 2938, 693]   \n",
       "2  32010D0008        [3560, 365, 4256, 4261, 4353, 4585]   \n",
       "3  31982D0211       [1091, 3842, 3874, 4110, 4381, 5287]   \n",
       "4  31996D0084       [1026, 1048, 2300, 3653, 4271, 4390]   \n",
       "\n",
       "                                      header+recital  \n",
       "0  1.7.2014 EN Official Journal of the European U...  \n",
       "1  REGULATION (EEC) No 2481/75 OF THE COUNCIL  of...  \n",
       "2  7.1.2010 EN Official Journal of the European U...  \n",
       "3  COMMISSION  DECISION\\nof 17 March 1982\\nestabl...  \n",
       "4  COMMISSION DECISION of 8 January 1996 adjustin...  "
      ]
     },
     "execution_count": 62,
     "metadata": {},
     "output_type": "execute_result"
    }
   ],
   "source": [
    "total=total[[\"celex_id\",\"concepts\",\"header\",\"recitals\"]]\n",
    "\n",
    "total[\"header+recital\"]=total[\"header\"]+total[\"recitals\"]\n",
    "\n",
    "total=total[[\"celex_id\",\"concepts\",\"header+recital\"]]\n",
    "\n",
    "total.head()"
   ]
  },
  {
   "cell_type": "code",
   "execution_count": 63,
   "metadata": {
    "ExecuteTime": {
     "end_time": "2020-10-29T16:05:13.745550Z",
     "start_time": "2020-10-29T16:05:06.703802Z"
    }
   },
   "outputs": [],
   "source": [
    "mlb = MultiLabelBinarizer()\n",
    "total=pd.concat([total,pd.DataFrame(mlb.fit_transform(total.pop('concepts')),\n",
    "                          columns=mlb.classes_,\n",
    "                          index=total.index)],axis=1)"
   ]
  },
  {
   "cell_type": "code",
   "execution_count": 64,
   "metadata": {
    "ExecuteTime": {
     "end_time": "2020-10-29T16:05:21.470111Z",
     "start_time": "2020-10-29T16:05:21.463150Z"
    }
   },
   "outputs": [],
   "source": [
    "train=total[:51000]\n",
    "test=total[51000:]"
   ]
  },
  {
   "cell_type": "code",
   "execution_count": 67,
   "metadata": {
    "ExecuteTime": {
     "end_time": "2020-10-29T16:06:13.643778Z",
     "start_time": "2020-10-29T16:05:30.271993Z"
    }
   },
   "outputs": [],
   "source": [
    "test.to_csv(\"../../dataset/downstream_task/classification/text/test.csv\")\n",
    "train.to_csv(\"../../dataset/downstream_task/classification/text/train.csv\")"
   ]
  },
  {
   "cell_type": "code",
   "execution_count": null,
   "metadata": {},
   "outputs": [],
   "source": []
  },
  {
   "cell_type": "code",
   "execution_count": null,
   "metadata": {},
   "outputs": [],
   "source": []
  },
  {
   "cell_type": "code",
   "execution_count": null,
   "metadata": {},
   "outputs": [],
   "source": []
  },
  {
   "cell_type": "code",
   "execution_count": null,
   "metadata": {},
   "outputs": [],
   "source": []
  },
  {
   "cell_type": "markdown",
   "metadata": {},
   "source": [
    "## Single Label"
   ]
  },
  {
   "cell_type": "code",
   "execution_count": 6,
   "metadata": {
    "ExecuteTime": {
     "end_time": "2020-11-02T17:31:14.741550Z",
     "start_time": "2020-11-02T17:31:14.726021Z"
    }
   },
   "outputs": [],
   "source": [
    "test=test[[\"celex_id\",\"type\",\"header\",\"recitals\"]]"
   ]
  },
  {
   "cell_type": "code",
   "execution_count": 7,
   "metadata": {
    "ExecuteTime": {
     "end_time": "2020-11-02T17:31:18.309988Z",
     "start_time": "2020-11-02T17:31:18.279714Z"
    }
   },
   "outputs": [],
   "source": [
    "test[\"header+recital\"]=test[\"header\"]+test[\"recitals\"]"
   ]
  },
  {
   "cell_type": "code",
   "execution_count": 8,
   "metadata": {
    "ExecuteTime": {
     "end_time": "2020-11-02T17:31:18.672874Z",
     "start_time": "2020-11-02T17:31:18.657681Z"
    }
   },
   "outputs": [],
   "source": [
    "test=test[[\"celex_id\",\"type\",\"header+recital\"]]"
   ]
  },
  {
   "cell_type": "code",
   "execution_count": 9,
   "metadata": {
    "ExecuteTime": {
     "end_time": "2020-11-02T17:31:19.719410Z",
     "start_time": "2020-11-02T17:31:19.702492Z"
    }
   },
   "outputs": [
    {
     "data": {
      "text/html": [
       "<div>\n",
       "<style scoped>\n",
       "    .dataframe tbody tr th:only-of-type {\n",
       "        vertical-align: middle;\n",
       "    }\n",
       "\n",
       "    .dataframe tbody tr th {\n",
       "        vertical-align: top;\n",
       "    }\n",
       "\n",
       "    .dataframe thead th {\n",
       "        text-align: right;\n",
       "    }\n",
       "</style>\n",
       "<table border=\"1\" class=\"dataframe\">\n",
       "  <thead>\n",
       "    <tr style=\"text-align: right;\">\n",
       "      <th></th>\n",
       "      <th>celex_id</th>\n",
       "      <th>type</th>\n",
       "      <th>header+recital</th>\n",
       "    </tr>\n",
       "  </thead>\n",
       "  <tbody>\n",
       "    <tr>\n",
       "      <th>0</th>\n",
       "      <td>32011D0690</td>\n",
       "      <td>Decision</td>\n",
       "      <td>15.10.2011 EN Official Journal of the European...</td>\n",
       "    </tr>\n",
       "    <tr>\n",
       "      <th>1</th>\n",
       "      <td>31996R2052</td>\n",
       "      <td>Regulation</td>\n",
       "      <td>COMMISSION REGULATION (EC) No 2052/96 of 25 Oc...</td>\n",
       "    </tr>\n",
       "    <tr>\n",
       "      <th>2</th>\n",
       "      <td>32001R1868</td>\n",
       "      <td>Regulation</td>\n",
       "      <td>Commission Regulation (EC) No 1868/2001\\nof 24...</td>\n",
       "    </tr>\n",
       "    <tr>\n",
       "      <th>3</th>\n",
       "      <td>31992R0601</td>\n",
       "      <td>Regulation</td>\n",
       "      <td>11.3.1992 EN Official Journal of the European ...</td>\n",
       "    </tr>\n",
       "    <tr>\n",
       "      <th>4</th>\n",
       "      <td>31992D0310</td>\n",
       "      <td>Decision</td>\n",
       "      <td>COMMISSION DECISION  of 21 May 1992  adjusting...</td>\n",
       "    </tr>\n",
       "  </tbody>\n",
       "</table>\n",
       "</div>"
      ],
      "text/plain": [
       "     celex_id        type                                     header+recital\n",
       "0  32011D0690    Decision  15.10.2011 EN Official Journal of the European...\n",
       "1  31996R2052  Regulation  COMMISSION REGULATION (EC) No 2052/96 of 25 Oc...\n",
       "2  32001R1868  Regulation  Commission Regulation (EC) No 1868/2001\\nof 24...\n",
       "3  31992R0601  Regulation  11.3.1992 EN Official Journal of the European ...\n",
       "4  31992D0310    Decision  COMMISSION DECISION  of 21 May 1992  adjusting..."
      ]
     },
     "execution_count": 9,
     "metadata": {},
     "output_type": "execute_result"
    }
   ],
   "source": [
    "test.head()"
   ]
  },
  {
   "cell_type": "code",
   "execution_count": 11,
   "metadata": {
    "ExecuteTime": {
     "end_time": "2020-11-02T17:31:34.320023Z",
     "start_time": "2020-11-02T17:31:34.313683Z"
    }
   },
   "outputs": [
    {
     "data": {
      "text/plain": [
       "{'Decision', 'Directive', 'Regulation'}"
      ]
     },
     "execution_count": 11,
     "metadata": {},
     "output_type": "execute_result"
    }
   ],
   "source": [
    "set(test[\"type\"])"
   ]
  },
  {
   "cell_type": "code",
   "execution_count": null,
   "metadata": {},
   "outputs": [],
   "source": []
  }
 ],
 "metadata": {
  "kernelspec": {
   "display_name": "Python 3",
   "language": "python",
   "name": "python3"
  },
  "language_info": {
   "codemirror_mode": {
    "name": "ipython",
    "version": 3
   },
   "file_extension": ".py",
   "mimetype": "text/x-python",
   "name": "python",
   "nbconvert_exporter": "python",
   "pygments_lexer": "ipython3",
   "version": "3.7.4"
  }
 },
 "nbformat": 4,
 "nbformat_minor": 2
}
